{
 "cells": [
  {
   "cell_type": "markdown",
   "id": "c1021ad7",
   "metadata": {},
   "source": [
    "## E2E dataset の読み込み\n",
    "下記のサイトに置かれている e2e_refined_dataset_v1_0_0.zip を展開し，mr および text を取り出す手順を確認する。\n",
    "\n",
    "https://github.com/KSKTYM/E2E-refined-dataset/tree/main/release"
   ]
  },
  {
   "cell_type": "code",
   "execution_count": 46,
   "id": "dfd42e68",
   "metadata": {},
   "outputs": [],
   "source": [
    "train_file = \"e2e_refined_dataset/e2e_train.json\"\n",
    "\n",
    "import json\n",
    "with open(train_file, \"r\") as f:\n",
    "    js = json.load(f)"
   ]
  },
  {
   "cell_type": "code",
   "execution_count": 47,
   "id": "5a6432b6",
   "metadata": {},
   "outputs": [
    {
     "data": {
      "text/plain": [
       "40560"
      ]
     },
     "execution_count": 47,
     "metadata": {},
     "output_type": "execute_result"
    }
   ],
   "source": [
    "len(js)"
   ]
  },
  {
   "cell_type": "code",
   "execution_count": 48,
   "id": "3fcf72bb",
   "metadata": {
    "scrolled": true
   },
   "outputs": [
    {
     "data": {
      "text/plain": [
       "{'name': 'THE VAULTS',\n",
       " 'eatType': 'pub',\n",
       " 'food': '',\n",
       " 'priceRange': 'more than £30',\n",
       " 'customer rating': '5 out of 5',\n",
       " 'area': '',\n",
       " 'familyFriendly': '',\n",
       " 'near': 'CAFÉ ADRIATIC'}"
      ]
     },
     "execution_count": 48,
     "metadata": {},
     "output_type": "execute_result"
    }
   ],
   "source": [
    "js[0]['mr']['value']"
   ]
  },
  {
   "cell_type": "code",
   "execution_count": 49,
   "id": "d806f606",
   "metadata": {
    "scrolled": true
   },
   "outputs": [
    {
     "data": {
      "text/plain": [
       "{'name': 1,\n",
       " 'eatType': 2,\n",
       " 'food': 0,\n",
       " 'priceRange': 5,\n",
       " 'customer rating': 4,\n",
       " 'area': 0,\n",
       " 'familyFriendly': 0,\n",
       " 'near': 3}"
      ]
     },
     "execution_count": 49,
     "metadata": {},
     "output_type": "execute_result"
    }
   ],
   "source": [
    "js[0]['mr']['order']"
   ]
  },
  {
   "cell_type": "code",
   "execution_count": 50,
   "id": "fcdf611e",
   "metadata": {},
   "outputs": [
    {
     "name": "stdout",
     "output_type": "stream",
     "text": [
      "[('food', 0), ('area', 0), ('familyFriendly', 0), ('name', 1), ('eatType', 2), ('near', 3), ('customer rating', 4), ('priceRange', 5)]\n",
      "['name', 'eatType', 'near', 'customer rating', 'priceRange']\n"
     ]
    }
   ],
   "source": [
    "# (試し打ち) 'order' の値に応じてキーを並べる。ただし，値がゼロの場合を除く\n",
    "order = js[0]['mr']['order']\n",
    "sorted_order = sorted(order.items(), key=lambda x:x[1])\n",
    "print(sorted_order)\n",
    "\n",
    "new_order = [k for k, v in sorted_order if v != 0]\n",
    "print(new_order)"
   ]
  },
  {
   "cell_type": "code",
   "execution_count": 51,
   "id": "0f0d0a37",
   "metadata": {},
   "outputs": [
    {
     "name": "stdout",
     "output_type": "stream",
     "text": [
      "name THE VAULTS\n",
      "eatType pub\n",
      "near CAFÉ ADRIATIC\n",
      "customer rating 5 out of 5\n",
      "priceRange more than £30\n"
     ]
    }
   ],
   "source": [
    "# (試し打ち) new_order 内の要素の順番に value を取り出す\n",
    "value = js[0]['mr']['value']\n",
    "for attr in new_order:\n",
    "    print(attr, value[attr])"
   ]
  },
  {
   "cell_type": "code",
   "execution_count": 52,
   "id": "581eea9c",
   "metadata": {},
   "outputs": [],
   "source": [
    "import json\n",
    "\n",
    "def load_e2e_data(path):\n",
    "    mrs = list()\n",
    "    texts = list()\n",
    "    \n",
    "    with open(path, \"r\") as f:\n",
    "        js = json.load(f)\n",
    "\n",
    "        for item in js:\n",
    "            order = item['mr']['order'] # mr に含まれる属性の順番\n",
    "            value = item['mr']['value'] # 各属性に対応する値\n",
    "\n",
    "            # order から順番に応じて属性(attribute / slot) を並べる\n",
    "            sorted_order = sorted(order.items(), key=lambda x:x[1])\n",
    "            new_order = [k for k, v in sorted_order if v != 0]\n",
    "\n",
    "            # seq2seq へ与える形式で mr を構成する\n",
    "            mr = []\n",
    "            for attr in new_order:\n",
    "                mr.append('inform')\n",
    "                mr.append(attr)\n",
    "                mr.append(value[attr])\n",
    "\n",
    "            # seq2seq へ与える形式で text を構成する\n",
    "            mrs.append(mr)\n",
    "            texts.append(item['txt'])\n",
    "            \n",
    "    return mrs, texts\n",
    "\n",
    "train_file = \"e2e_refined_dataset/e2e_train.json\"\n",
    "mrs, texts = load_e2e_data(train_file)"
   ]
  },
  {
   "cell_type": "code",
   "execution_count": 53,
   "id": "b14dd2f3",
   "metadata": {},
   "outputs": [
    {
     "data": {
      "text/plain": [
       "40560"
      ]
     },
     "execution_count": 53,
     "metadata": {},
     "output_type": "execute_result"
    }
   ],
   "source": [
    "len(mrs)"
   ]
  },
  {
   "cell_type": "code",
   "execution_count": 54,
   "id": "84ed0b8d",
   "metadata": {
    "scrolled": true
   },
   "outputs": [
    {
     "name": "stdout",
     "output_type": "stream",
     "text": [
      "min: 3\n",
      "max: 24\n",
      "mean: 15.672559171597634\n"
     ]
    },
    {
     "data": {
      "image/png": "[encoded data removed]",
      "text/plain": [
       "<Figure size 640x480 with 1 Axes>"
      ]
     },
     "metadata": {},
     "output_type": "display_data"
    }
   ],
   "source": [
    "# (参考) 個々の mr の長さを求める\n",
    "# (注) mr の構成上，長さは「３の倍数」になる。\n",
    "mr_length = [len(mr) for mr in mrs]\n",
    "\n",
    "import numpy as np\n",
    "print(\"min:\", np.min(mr_length))\n",
    "print(\"max:\", np.max(mr_length))\n",
    "print(\"mean:\", np.mean(mr_length))\n",
    "\n",
    "import matplotlib.pyplot as plt\n",
    "plt.hist(mr_length, bins=24)\n",
    "plt.show()"
   ]
  },
  {
   "cell_type": "code",
   "execution_count": 58,
   "id": "3e9de449",
   "metadata": {},
   "outputs": [
    {
     "data": {
      "text/plain": [
       "['A coffee shop in the city centre area called BLUE SPICE.',\n",
       " 'BLUE SPICE is a coffee shop in city centre.',\n",
       " 'There is a coffee shop BLUE SPICE in the riverside area.']"
      ]
     },
     "execution_count": 58,
     "metadata": {},
     "output_type": "execute_result"
    }
   ],
   "source": [
    "texts[:3]"
   ]
  },
  {
   "cell_type": "code",
   "execution_count": 61,
   "id": "1067bf06",
   "metadata": {},
   "outputs": [
    {
     "name": "stdout",
     "output_type": "stream",
     "text": [
      "min: 4\n",
      "max: 71\n",
      "mean: 23.91767288693743\n"
     ]
    },
    {
     "data": {
      "image/png": "[encoded data removed]",
      "text/plain": [
       "<Figure size 640x480 with 1 Axes>"
      ]
     },
     "metadata": {},
     "output_type": "display_data"
    }
   ],
   "source": [
    "# (参考) 個々の text の長さ(=単語数)を求める\n",
    "text_length = [len(text.split(' ')) for text in texts]\n",
    "\n",
    "import numpy as np\n",
    "print(\"min:\", np.min(text_length))\n",
    "print(\"max:\", np.max(text_length))\n",
    "print(\"mean:\", np.mean(text_length))\n",
    "\n",
    "import matplotlib.pyplot as plt\n",
    "plt.hist(text_length, bins=24)\n",
    "plt.show()"
   ]
  },
  {
   "cell_type": "code",
   "execution_count": 55,
   "id": "8e3291d8",
   "metadata": {},
   "outputs": [
    {
     "name": "stdout",
     "output_type": "stream",
     "text": [
      "==========\n",
      "['inform', 'name', 'THE VAULTS', 'inform', 'eatType', 'pub', 'inform', 'near', 'CAFÉ ADRIATIC', 'inform', 'customer rating', '5 out of 5', 'inform', 'priceRange', 'more than £30']\n",
      "THE VAULTS pub near CAFÉ ADRIATIC has a 5 star rating. Prices start at £30.\n",
      "==========\n",
      "['inform', 'near', 'CAFÉ BRAZIL', 'inform', 'name', 'THE CAMBRIDGE BLUE', 'inform', 'eatType', 'pub', 'inform', 'priceRange', '£20-25']\n",
      "Close to CAFÉ BRAZIL, THE CAMBRIDGE BLUE pub serves delicious tuscan beef for the cheap price of £20. Delicious pub food.\n",
      "==========\n",
      "['inform', 'name', 'THE EAGLE', 'inform', 'customer rating', 'low', 'inform', 'eatType', 'coffee shop', 'inform', 'near', 'BURGER KING', 'inform', 'area', 'riverside', 'inform', 'familyFriendly', 'yes', 'inform', 'priceRange', 'less than £20', 'inform', 'food', 'Japanese']\n",
      "THE EAGLE is a low rated coffee shop near BURGER KING and the riverside that is family friendly and is less than £20 for Japanese food.\n"
     ]
    }
   ],
   "source": [
    "# (参考) データの冒頭を眺めてみる\n",
    "for mr, text in zip(mrs[:3], texts[:3]):\n",
    "    print(\"==========\")\n",
    "    print(mr)\n",
    "    print(text)"
   ]
  },
  {
   "cell_type": "code",
   "execution_count": 56,
   "id": "7bb3bb20",
   "metadata": {},
   "outputs": [
    {
     "name": "stdout",
     "output_type": "stream",
     "text": [
      "train: 40560\n",
      "valid: 4489\n",
      "test: 4555\n"
     ]
    }
   ],
   "source": [
    "# (参考) train / valid / test に含まれるデータ数の確認\n",
    "train_file = \"e2e_refined_dataset/e2e_train.json\"\n",
    "mrs, texts = load_e2e_data(train_file)\n",
    "print(\"train:\", len(mrs))\n",
    "\n",
    "valid_file = \"e2e_refined_dataset/e2e_valid.json\"\n",
    "mrs, texts = load_e2e_data(valid_file)\n",
    "print(\"valid:\", len(mrs))\n",
    "\n",
    "test_file = \"e2e_refined_dataset/e2e_test.json\"\n",
    "mrs, texts = load_e2e_data(test_file)\n",
    "print(\"test:\", len(mrs))\n"
   ]
  },
  {
   "cell_type": "code",
   "execution_count": 67,
   "id": "3ae644a4",
   "metadata": {},
   "outputs": [
    {
     "name": "stdout",
     "output_type": "stream",
     "text": [
      "95\n"
     ]
    }
   ],
   "source": [
    "# (メモ) MR 内で利用される単語の種類数が 95 と少ない気がするが，本当かいな？ と確認\n",
    "train_file = \"e2e_refined_dataset/e2e_train.json\"\n",
    "mrs, texts = load_e2e_data(train_file)\n",
    "\n",
    "words = []\n",
    "for mr in mrs:\n",
    "    for item in mr:\n",
    "        words.append(item)\n",
    "    \n",
    "print(len(set(words)))"
   ]
  },
  {
   "cell_type": "code",
   "execution_count": null,
   "id": "b95e7ad0",
   "metadata": {},
   "outputs": [],
   "source": []
  }
 ],
 "metadata": {
  "kernelspec": {
   "display_name": "Python 3 (ipykernel)",
   "language": "python",
   "name": "python3"
  },
  "language_info": {
   "codemirror_mode": {
    "name": "ipython",
    "version": 3
   },
   "file_extension": ".py",
   "mimetype": "text/x-python",
   "name": "python",
   "nbconvert_exporter": "python",
   "pygments_lexer": "ipython3",
   "version": "3.8.13"
  }
 },
 "nbformat": 4,
 "nbformat_minor": 5
}
