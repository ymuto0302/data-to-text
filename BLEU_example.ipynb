{
 "cells": [
  {
   "cell_type": "code",
   "execution_count": 16,
   "metadata": {},
   "outputs": [
    {
     "name": "stdout",
     "output_type": "stream",
     "text": [
      "hypothesis1 :  0.5045666840058485\n",
      "hypothesis2 :  5.92086005993801e-155\n",
      "hyp1 & hyp2 :  0.5920778868801042\n"
     ]
    }
   ],
   "source": [
    "'''\n",
    "nltk.translate.bleu_score の使い方\n",
    "'''\n",
    "\n",
    "from nltk.translate.bleu_score import corpus_bleu, sentence_bleu\n",
    "\n",
    "'''\n",
    "システム翻訳文集合(hypothesis)の要素数が1の場合、nltk.translate.bleu_score.sentence_bleuを利用\n",
    "'''\n",
    "hypothesis1 = ['It', 'is', 'a', 'guide', 'to', 'action', 'which',\n",
    "               'ensures', 'that', 'the', 'military', 'always',\n",
    "               'obeys', 'the', 'commands', 'of', 'the', 'party']\n",
    "\n",
    "hypothesis2 = ['It', 'is', 'to', 'insure', 'the', 'troops',\n",
    "               'forever', 'hearing', 'the', 'activity', 'guidebook',\n",
    "               'that', 'party', 'direct']\n",
    "\n",
    "reference1 = ['It', 'is', 'a', 'guide', 'to', 'action', 'that',\n",
    "              'ensures', 'that', 'the', 'military', 'will', 'forever',\n",
    "              'heed', 'Party', 'commands']\n",
    "\n",
    "reference2 = ['It', 'is', 'the', 'guiding', 'principle', 'which',\n",
    "              'guarantees', 'the', 'military', 'forces', 'always',\n",
    "              'being', 'under', 'the', 'command', 'of', 'the',\n",
    "              'Party']\n",
    "\n",
    "reference3 = ['It', 'is', 'the', 'practical', 'guide', 'for', 'the',\n",
    "              'army', 'always', 'to', 'heed', 'the', 'directions',\n",
    "              'of', 'the', 'party']\n",
    "\n",
    "score = sentence_bleu([reference1, reference2, reference3], hypothesis1)\n",
    "print(\"hypothesis1 : \", score)\n",
    "\n",
    "score = sentence_bleu([reference1, reference2, reference3], hypothesis2)\n",
    "print(\"hypothesis2 : \", score)\n",
    "\n",
    "#####################################\n",
    "'''\n",
    "システム翻訳文集合(hypothesis)の要素数が複数の場合、nltk.translate.bleu_score.corpus_bleuを利用\n",
    "'''\n",
    "hyp1 = ['It', 'is', 'a', 'guide', 'to', 'action', 'which',\n",
    "        'ensures', 'that', 'the', 'military', 'always',\n",
    "        'obeys', 'the', 'commands', 'of', 'the', 'party']\n",
    "ref1a = ['It', 'is', 'a', 'guide', 'to', 'action', 'that',\n",
    "         'ensures', 'that', 'the', 'military', 'will', 'forever',\n",
    "         'heed', 'Party', 'commands']\n",
    "ref1b = ['It', 'is', 'the', 'guiding', 'principle', 'which',\n",
    "         'guarantees', 'the', 'military', 'forces', 'always',\n",
    "         'being', 'under', 'the', 'command', 'of', 'the', 'Party']\n",
    "ref1c = ['It', 'is', 'the', 'practical', 'guide', 'for', 'the',\n",
    "         'army', 'always', 'to', 'heed', 'the', 'directions',\n",
    "         'of', 'the', 'party']\n",
    "\n",
    "hyp2 = ['he', 'read', 'the', 'book', 'because', 'he', 'was',\n",
    "        'interested', 'in', 'world', 'history']\n",
    "ref2a = ['he', 'was', 'interested', 'in', 'world', 'history',\n",
    "         'because', 'he', 'read', 'the', 'book']\n",
    "\n",
    "list_of_references = [[ref1a, ref1b, ref1c], [ref2a]]\n",
    "hypotheses = [hyp1, hyp2]\n",
    "    \n",
    "score = corpus_bleu(list_of_references, hypotheses)\n",
    "print(\"hyp1 & hyp2 : \", score)"
   ]
  },
  {
   "cell_type": "code",
   "execution_count": 1,
   "metadata": {},
   "outputs": [],
   "source": [
    "import nltk"
   ]
  },
  {
   "cell_type": "code",
   "execution_count": null,
   "metadata": {},
   "outputs": [],
   "source": []
  }
 ],
 "metadata": {
  "colab": {
   "collapsed_sections": [],
   "name": "Attention",
   "provenance": []
  },
  "kernelspec": {
   "display_name": "Python 3 (ipykernel)",
   "language": "python",
   "name": "python3"
  },
  "language_info": {
   "codemirror_mode": {
    "name": "ipython",
    "version": 3
   },
   "file_extension": ".py",
   "mimetype": "text/x-python",
   "name": "python",
   "nbconvert_exporter": "python",
   "pygments_lexer": "ipython3",
   "version": "3.8.5"
  }
 },
 "nbformat": 4,
 "nbformat_minor": 1
}
